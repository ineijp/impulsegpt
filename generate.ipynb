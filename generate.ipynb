{
 "cells": [
  {
   "cell_type": "code",
   "execution_count": 1,
   "id": "30236c62",
   "metadata": {},
   "outputs": [],
   "source": [
    "#import impulsegpt_sdpa\n",
    "import torch\n",
    "from torch import nn\n",
    "from torchinfo import summary\n",
    "from transformers import AutoTokenizer\n",
    "from matplotlib import pyplot as plt\n"
   ]
  },
  {
   "cell_type": "code",
   "execution_count": 2,
   "id": "9efac1c0",
   "metadata": {},
   "outputs": [
    {
     "name": "stdout",
     "output_type": "stream",
     "text": [
      "Using CUDA\n",
      "(8, 6)\n"
     ]
    }
   ],
   "source": [
    "device = torch.device('cpu')\n",
    "if torch.cuda.is_available():\n",
    "    device = torch.device('cuda')\n",
    "    print(\"Using CUDA\")\n",
    "    print(torch.cuda.get_device_capability())\n",
    "elif torch.backends.mps.is_available():\n",
    "    device = torch.device('mps')\n",
    "    print(\"Using MPS\")\n",
    "else:\n",
    "    print(\"Using CPU\")\n"
   ]
  },
  {
   "cell_type": "code",
   "execution_count": 3,
   "id": "07eaa612",
   "metadata": {},
   "outputs": [
    {
     "data": {
      "text/plain": [
       "=================================================================\n",
       "Layer (type:depth-idx)                   Param #\n",
       "=================================================================\n",
       "ImpulseGPT                               --\n",
       "├─Embedding: 1-1                         38,597,376\n",
       "├─ModuleList: 1-2                        --\n",
       "│    └─Layer: 2-1                        --\n",
       "│    │    └─RoPE: 3-1                    --\n",
       "│    │    └─RoPE: 3-2                    --\n",
       "│    │    └─Linear: 3-3                  589,824\n",
       "│    │    └─Linear: 3-4                  196,608\n",
       "│    │    └─Linear: 3-5                  196,608\n",
       "│    │    └─Linear: 3-6                  590,592\n",
       "│    │    └─Sequential: 3-7              4,722,432\n",
       "│    │    └─Dropout: 3-8                 --\n",
       "│    └─Layer: 2-2                        --\n",
       "│    │    └─RoPE: 3-9                    --\n",
       "│    │    └─RoPE: 3-10                   --\n",
       "│    │    └─Linear: 3-11                 589,824\n",
       "│    │    └─Linear: 3-12                 196,608\n",
       "│    │    └─Linear: 3-13                 196,608\n",
       "│    │    └─Linear: 3-14                 590,592\n",
       "│    │    └─Sequential: 3-15             4,722,432\n",
       "│    │    └─Dropout: 3-16                --\n",
       "│    └─Layer: 2-3                        --\n",
       "│    │    └─RoPE: 3-17                   --\n",
       "│    │    └─RoPE: 3-18                   --\n",
       "│    │    └─Linear: 3-19                 589,824\n",
       "│    │    └─Linear: 3-20                 196,608\n",
       "│    │    └─Linear: 3-21                 196,608\n",
       "│    │    └─Linear: 3-22                 590,592\n",
       "│    │    └─Sequential: 3-23             4,722,432\n",
       "│    │    └─Dropout: 3-24                --\n",
       "│    └─Layer: 2-4                        --\n",
       "│    │    └─RoPE: 3-25                   --\n",
       "│    │    └─RoPE: 3-26                   --\n",
       "│    │    └─Linear: 3-27                 589,824\n",
       "│    │    └─Linear: 3-28                 196,608\n",
       "│    │    └─Linear: 3-29                 196,608\n",
       "│    │    └─Linear: 3-30                 590,592\n",
       "│    │    └─Sequential: 3-31             4,722,432\n",
       "│    │    └─Dropout: 3-32                --\n",
       "│    └─Layer: 2-5                        --\n",
       "│    │    └─RoPE: 3-33                   --\n",
       "│    │    └─RoPE: 3-34                   --\n",
       "│    │    └─Linear: 3-35                 589,824\n",
       "│    │    └─Linear: 3-36                 196,608\n",
       "│    │    └─Linear: 3-37                 196,608\n",
       "│    │    └─Linear: 3-38                 590,592\n",
       "│    │    └─Sequential: 3-39             4,722,432\n",
       "│    │    └─Dropout: 3-40                --\n",
       "│    └─Layer: 2-6                        --\n",
       "│    │    └─RoPE: 3-41                   --\n",
       "│    │    └─RoPE: 3-42                   --\n",
       "│    │    └─Linear: 3-43                 589,824\n",
       "│    │    └─Linear: 3-44                 196,608\n",
       "│    │    └─Linear: 3-45                 196,608\n",
       "│    │    └─Linear: 3-46                 590,592\n",
       "│    │    └─Sequential: 3-47             4,722,432\n",
       "│    │    └─Dropout: 3-48                --\n",
       "│    └─Layer: 2-7                        --\n",
       "│    │    └─RoPE: 3-49                   --\n",
       "│    │    └─RoPE: 3-50                   --\n",
       "│    │    └─Linear: 3-51                 589,824\n",
       "│    │    └─Linear: 3-52                 196,608\n",
       "│    │    └─Linear: 3-53                 196,608\n",
       "│    │    └─Linear: 3-54                 590,592\n",
       "│    │    └─Sequential: 3-55             4,722,432\n",
       "│    │    └─Dropout: 3-56                --\n",
       "│    └─Layer: 2-8                        --\n",
       "│    │    └─RoPE: 3-57                   --\n",
       "│    │    └─RoPE: 3-58                   --\n",
       "│    │    └─Linear: 3-59                 589,824\n",
       "│    │    └─Linear: 3-60                 196,608\n",
       "│    │    └─Linear: 3-61                 196,608\n",
       "│    │    └─Linear: 3-62                 590,592\n",
       "│    │    └─Sequential: 3-63             4,722,432\n",
       "│    │    └─Dropout: 3-64                --\n",
       "│    └─Layer: 2-9                        --\n",
       "│    │    └─RoPE: 3-65                   --\n",
       "│    │    └─RoPE: 3-66                   --\n",
       "│    │    └─Linear: 3-67                 589,824\n",
       "│    │    └─Linear: 3-68                 196,608\n",
       "│    │    └─Linear: 3-69                 196,608\n",
       "│    │    └─Linear: 3-70                 590,592\n",
       "│    │    └─Sequential: 3-71             4,722,432\n",
       "│    │    └─Dropout: 3-72                --\n",
       "│    └─Layer: 2-10                       --\n",
       "│    │    └─RoPE: 3-73                   --\n",
       "│    │    └─RoPE: 3-74                   --\n",
       "│    │    └─Linear: 3-75                 589,824\n",
       "│    │    └─Linear: 3-76                 196,608\n",
       "│    │    └─Linear: 3-77                 196,608\n",
       "│    │    └─Linear: 3-78                 590,592\n",
       "│    │    └─Sequential: 3-79             4,722,432\n",
       "│    │    └─Dropout: 3-80                --\n",
       "│    └─Layer: 2-11                       --\n",
       "│    │    └─RoPE: 3-81                   --\n",
       "│    │    └─RoPE: 3-82                   --\n",
       "│    │    └─Linear: 3-83                 589,824\n",
       "│    │    └─Linear: 3-84                 196,608\n",
       "│    │    └─Linear: 3-85                 196,608\n",
       "│    │    └─Linear: 3-86                 590,592\n",
       "│    │    └─Sequential: 3-87             4,722,432\n",
       "│    │    └─Dropout: 3-88                --\n",
       "│    └─Layer: 2-12                       --\n",
       "│    │    └─RoPE: 3-89                   --\n",
       "│    │    └─RoPE: 3-90                   --\n",
       "│    │    └─Linear: 3-91                 589,824\n",
       "│    │    └─Linear: 3-92                 196,608\n",
       "│    │    └─Linear: 3-93                 196,608\n",
       "│    │    └─Linear: 3-94                 590,592\n",
       "│    │    └─Sequential: 3-95             4,722,432\n",
       "│    │    └─Dropout: 3-96                --\n",
       "├─Linear: 1-3                            38,647,633\n",
       "=================================================================\n",
       "Total params: 152,797,777\n",
       "Trainable params: 152,797,777\n",
       "Non-trainable params: 0\n",
       "================================================================="
      ]
     },
     "execution_count": 3,
     "metadata": {},
     "output_type": "execute_result"
    }
   ],
   "source": [
    "model = torch.load('ckpt/impgpt-128-final-1.pt', weights_only=False)\n",
    "summary(model)"
   ]
  },
  {
   "cell_type": "code",
   "execution_count": 4,
   "id": "68cb4e56",
   "metadata": {},
   "outputs": [],
   "source": [
    "#tokenizer = AutoTokenizer.from_pretrained('google-bert/bert-base-chinese')\n",
    "tokenizer = AutoTokenizer.from_pretrained(\"EleutherAI/gpt-neo-125m\")"
   ]
  },
  {
   "cell_type": "code",
   "execution_count": 12,
   "id": "d96c9d53",
   "metadata": {},
   "outputs": [
    {
     "name": "stdout",
     "output_type": "stream",
     "text": [
      "tensor([[ 7454,  2402,   257,   640,    11,   612,   373,   257,  1310,  2576,\n",
      "          3706, 22162,    13, 22162,   550,   257,  4004,  3654,    13,  1881,\n",
      "          1110,    11,   673,  2227,   284,  1011,   607,  3654,   284,   262,\n",
      "          3952,    13,   887,   607,  3654,   373,   407,   287,   262, 13373,\n",
      "          3091,    13, 22162,  3088,   284,  1037,   607,  3654,    11,   475,\n",
      "           262,  3654,   373,   991,  1165,  1263,    13,   198,   198, 25596,\n",
      "           948,   338,  1995,   531,    11,   366,  3987,   470,  5490,    11,\n",
      "           356,   481,   651,   345,   257,   649,  3654,   526,  1119,  1718,\n",
      "           673,   284,   262, 13373,  3650,    13, 22162,  2497,   257,  1263,\n",
      "            11,  2266,  3654,   351,   257,  2495,  6576,    13,  1375,  1965,\n",
      "           607,  1995,    11,   366,  6090,   356,   423,   534,  3654,  1701,\n",
      "          2332,  1995, 13541,   290,   531,    11,   366,  5297,    11,  1309,\n",
      "           338,   467,  1363,  2474,   198]], device='cuda:0')\n",
      "torch.Size([1, 125])\n",
      "Once upon a time, there was a little girl named Lucy. Lucy had a favorite doll. One day, she wanted to take her doll to the park. But her doll was not in the toy box. Lucy tried to help her doll, but the doll was still too big.\n",
      "\n",
      "Lucy's mom said, \"Don't worry, we will get you a new doll.\" They took she to the toy store. Lucy saw a big, red doll with a pretty dress. She asked her mom, \"Can we have your doll?\" Her mom smiled and said, \"Yes, let's go home!\"\n",
      "\n"
     ]
    }
   ],
   "source": [
    "start_ids = torch.tensor(tokenizer.encode('Once upon a time,')).unsqueeze(dim=0).to(device=device)\n",
    "max_length = 120\n",
    "y = model.generate(start_ids, max_length=max_length, top_k=8, temp=1.25)\n",
    "print(y)\n",
    "txt = tokenizer.decode(y[0].tolist(), skip_special_tokens=True)\n",
    "print(y.shape)\n",
    "print(txt)"
   ]
  },
  {
   "cell_type": "code",
   "execution_count": 6,
   "id": "b0cdd4b1",
   "metadata": {},
   "outputs": [
    {
     "name": "stdout",
     "output_type": "stream",
     "text": [
      "tensor(612)\n"
     ]
    },
    {
     "data": {
      "text/plain": [
       "' there'"
      ]
     },
     "execution_count": 6,
     "metadata": {},
     "output_type": "execute_result"
    },
    {
     "data": {
      "image/png": "[encoded data removed]",
      "text/plain": [
       "<Figure size 640x480 with 1 Axes>"
      ]
     },
     "metadata": {},
     "output_type": "display_data"
    }
   ],
   "source": [
    "y = model(start_ids)\n",
    "prob = nn.functional.softmax(y, dim=-1).cpu().detach().squeeze()\n",
    "token_max = torch.argmax(prob)\n",
    "print(token_max)\n",
    "plt.plot(prob)\n",
    "tokenizer.decode([token_max.tolist()])"
   ]
  }
 ],
 "metadata": {
  "kernelspec": {
   "display_name": "impulsegpt",
   "language": "python",
   "name": "python3"
  },
  "language_info": {
   "codemirror_mode": {
    "name": "ipython",
    "version": 3
   },
   "file_extension": ".py",
   "mimetype": "text/x-python",
   "name": "python",
   "nbconvert_exporter": "python",
   "pygments_lexer": "ipython3",
   "version": "3.12.11"
  }
 },
 "nbformat": 4,
 "nbformat_minor": 5
}
