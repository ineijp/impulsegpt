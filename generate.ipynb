{
 "cells": [
  {
   "cell_type": "code",
   "execution_count": null,
   "id": "30236c62",
   "metadata": {},
   "outputs": [],
   "source": [
    "#import impulsegpt_sdpa\n",
    "import torch\n",
    "from torch import nn\n",
    "from torchinfo import summary\n",
    "from transformers import AutoTokenizer\n",
    "from matplotlib import pyplot as plt\n"
   ]
  },
  {
   "cell_type": "code",
   "execution_count": null,
   "id": "9efac1c0",
   "metadata": {},
   "outputs": [],
   "source": [
    "device = torch.device('cpu')\n",
    "if torch.cuda.is_available():\n",
    "    device = torch.device('cuda')\n",
    "    print(\"Using CUDA\")\n",
    "    print(torch.cuda.get_device_capability())\n",
    "elif torch.backends.mps.is_available():\n",
    "    device = torch.device('mps')\n",
    "    print(\"Using MPS\")\n",
    "else:\n",
    "    print(\"Using CPU\")\n"
   ]
  },
  {
   "cell_type": "code",
   "execution_count": null,
   "id": "07eaa612",
   "metadata": {},
   "outputs": [],
   "source": [
    "model = torch.load('ckpt/impgpt-128-final-1.pt', weights_only=False)\n",
    "summary(model)"
   ]
  },
  {
   "cell_type": "code",
   "execution_count": null,
   "id": "68cb4e56",
   "metadata": {},
   "outputs": [],
   "source": [
    "tokenizer = AutoTokenizer.from_pretrained('google-bert/bert-base-chinese')\n",
    "#tokenizer = AutoTokenizer.from_pretrained(\"EleutherAI/gpt-neo-125m\")"
   ]
  },
  {
   "cell_type": "code",
   "execution_count": null,
   "id": "d96c9d53",
   "metadata": {},
   "outputs": [],
   "source": [
    "start_x = torch.tensor(tokenizer.encode('once upon a time,')).unsqueeze(dim=0).to(device=device)\n",
    "print(start_x)\n",
    "start_ids = torch.tensor([[ 101, 8281, 8328, 8644, 8224,  143, 8759, 117]]).to(device)\n",
    "max_length = 64\n",
    "y = model.generate(start_ids, max_length=max_length, top_k=128, temp=0.75)\n",
    "print(y)\n",
    "txt = tokenizer.decode(y[0].tolist(), skip_special_tokens=True)\n",
    "print(y.shape)\n",
    "print(txt)"
   ]
  },
  {
   "cell_type": "code",
   "execution_count": null,
   "id": "b0cdd4b1",
   "metadata": {},
   "outputs": [],
   "source": [
    "y = model(start_ids)\n",
    "prob = nn.functional.softmax(y, dim=-1).cpu().detach().squeeze()\n",
    "token_max = torch.argmax(prob)\n",
    "print(token_max)\n",
    "plt.plot(prob)\n",
    "tokenizer.decode([token_max.tolist()])"
   ]
  }
 ],
 "metadata": {
  "kernelspec": {
   "display_name": "impulsegpt",
   "language": "python",
   "name": "python3"
  },
  "language_info": {
   "codemirror_mode": {
    "name": "ipython",
    "version": 3
   },
   "file_extension": ".py",
   "mimetype": "text/x-python",
   "name": "python",
   "nbconvert_exporter": "python",
   "pygments_lexer": "ipython3",
   "version": "3.12.11"
  }
 },
 "nbformat": 4,
 "nbformat_minor": 5
}
