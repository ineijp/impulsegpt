{
 "cells": [
  {
   "cell_type": "code",
   "execution_count": 1,
   "id": "3149bde4",
   "metadata": {},
   "outputs": [],
   "source": [
    "import impulsegpt\n",
    "import torch\n",
    "from torch import nn, functional\n"
   ]
  },
  {
   "cell_type": "code",
   "execution_count": 2,
   "id": "48e9e1f0",
   "metadata": {},
   "outputs": [
    {
     "name": "stdout",
     "output_type": "stream",
     "text": [
      "Using CUDA\n"
     ]
    }
   ],
   "source": [
    "device = torch.device('cpu')\n",
    "if torch.cuda.is_available():\n",
    "    device = torch.device('cuda')\n",
    "    print(\"Using CUDA\")\n",
    "elif torch.backends.mps.is_available():\n",
    "    device = torch.device('mps')\n",
    "    print(\"Using MPS\")\n",
    "else:\n",
    "    print(\"Using CPU\")"
   ]
  },
  {
   "cell_type": "code",
   "execution_count": 3,
   "id": "1d805b62",
   "metadata": {},
   "outputs": [],
   "source": [
    "config = impulsegpt.Config()\n",
    "config.ctx_len = 64\n",
    "config.n_layers = 6\n",
    "config.d_model = 512\n",
    "config.n_heads = 8"
   ]
  },
  {
   "cell_type": "code",
   "execution_count": 4,
   "id": "d105e062",
   "metadata": {},
   "outputs": [
    {
     "name": "stdout",
     "output_type": "stream",
     "text": [
      "Length of text: 87542\n",
      "Number of unique characters in the file: 2149\n",
      "Unique characters: \n",
      " *.08altwx—‘’“”…、。一丁七万丈三上下不与丑专且世丘业东丝丢两严个丫中丸丹为主丽举乃久么义之乌乍乎乐乔乖乘九也书买乱了予争事二于亏云互五井些亡交亮亲人亿什仇今仍从仑仔他仗仙仞代令以仨仪们仰件价任份仿伍伏伐休众优伙会伟传伤伦伶伸似但位低住佑体何余佛作你佩佼使依侠侧便促俊俏俗保信俩修俯俱俺倒候倚借倦值倾假偈偎偏做停偷偿傲傻像僧儿兀元兄充先光克免兔入全八公六兮兰共关兴兵其具养兽内冉再冒冕写冠冤冥冬冰冲决况冷冻净凄准凉凌减凑凛凝几凡凤凭凰凳凶出击刀分切刑划刚初判利别刮到制刹刺刻前剑剥剧剩副割劈力劝办功加务劣动助努劫劲劳势勇勒勾包匆化北匹区医十千升午半华卑卒单卖南博占卫卯印危即却卷历厉压厌厚原厮去参又及友双反发取受变叛叠口古句另只叫叭叮可台史右叶号叹叽吁吃各吆合同名后吏吐向吓吗君吞吟否吧吩含听吭启吵吸吹吻吼吽呀呆告呜呢呦周味呵呸呼命咆咋和咏咐咒咔咕咚咦咧咪咬咱咳咽哀品哄哇哈哉响哎哑哗哟哥哦哧哩哪哭哮哲哼哽唉唐唠唤唬唯唱唳唵啃啄啊啥啦啪啷啸啼喂喃善喊喘喜喝喧喳喷喽嗔嗝嗡嗨嗬嗯嗵嗷嘎嘘嘛嘟嘤嘲嘴嘶嘻嘿噙噢器嚎嚓嚣嚼囚四回因团园困围固国图圆圈土圣在地场均坏坐坑块坚坠坡垂型垒垫埋城堂堆堵塌塔塞填境墓墙增墟壁壑壤士声壳壶处备复夏夕外多夜够大天太夫央失头夹夺奇奈奋奔套奘奥女奶她好如妃妄妇妈妖妙妨妹始姐姑姓姿威娘娲婉婢婶媳嫁嫩子孔字存孙季孤学孩孱宁它宇守安完宗官宙定宛宜宝实客宫宰害宴家容宽宿寂密寒寞察寸对寺寻导封射将尊小少尖尘尚尝尤就尸尺尽尾局屁层居屈屋屏屑展山岁岂岐岔岚岛岩岭岸峰峻崖崩崽嶽巉巡左巧巨差己已巴巾市布帅师希帘帝带席帮常帽幅幕干平年并幸幻幽广庄庆床序应底庙府庞废度座庭廊廖延建开异弃弄式引弟张弥弧弯弱弹强弼归当形彩影彼往径待很律徐徒得御微德心必忆忌忍忒志忘忙忧快念忽怀态怎怏怒怔怕怖怜思急性怨怪怯总恋恍恐恒恙恨恩恬恭息恳恶恼悄悉悔悟悠悦您悬悲情惊惑惜惧惨惬惮想惶惹愁愉意愕感愣愤愿慌慕慢慧憧憬憾懂懒戏成我戒或战戟戳戴所扁扇手才扎扑打扔托执扫扬扮扯扰扶找承把抓投抖抗折抚抛抢护报披抬抱抵抹押抽拂拄担拆拉拍拎拐拒拖拘招拜拣拥拦拨择拯拱拳拼拽拾拿持挂指按挑挖挚挠挡挣挤挥挨振挺挽捂捅捉捏捕捞捡换捣捧据捶捷掀掂授掉掌掏掐排掠探接推掩措掰揉揍提插握揣揪揭揽搂搅搐搜搞搡搬搭摄摆摇摈摊摔摘摸撇撑撒撕撞撬擒擞攀攥支收改攻放故敌救敖教敢散敬数敲整文斗料斧斩断斯新方施旁旅旋族无既日旦旧旨早时旷昂昆昌明昏易星映春昨是显晃晌晕晚晨景晰晶智晾暂暇暖暗暴曜曰曲更曾替最月有朋服朔朗望朝期朦木未末本术朵机朽杀杂杆杈李村杖束条来杨杯松极枉枕林果枝枪枯架柏某染柔查柯柱柳柴标栏树栗株样核根格栽桂桃桌桑桔桥桩桶梅梢梦检棋棍棒森棵椅植椰楚楼概槌模横欠次欢欣欲欺歇歌止正此步武歪歹死殃残段殿毁母每比毕毛毫毯民氓气水永汁求汇汉汗江汪汹汾沉沙没河油沽沾沿泄泉泊泌法泞泡波泣泥注泪泳泼洁洋洒洗洞洪洲活派流测浑浓浙浩浪浮海浸涂消涉涌涡润涧涨涯液涵淇淋淌淘淡深混淹清渊渐渗渡渣温渴游渺湖湿溃溅源溜溶滋滑滔滚满滴漂漉漏漓演漠漫漾潜潭潮澈澡激瀑瀛火灭灯灰灵灾灿炉炎炭炸点炼烁烂烈烟烦烧烬热焦焰然照熄熊熔熟燃爆爪爬爱父爷爸爹爽片牙牛牢物牵特犀犯状犹狂狗狞狠独狮狰狱狲狼猎猕猛猜猡猢猪猫猴猿玄玉王玩环现玷珍珏珠球理琉琐琵琶瑞瑟瑶璃瓜瓢瓤瓦甘甚生用甩田由甲电男画畅界畏畔留畜疑疯疼疾病症痒痕痛痴瘫登白百的皆皇皈皋皮皱盂盆盈盏监盔盖盘盛目盯直相盼省眉看真眨眩眼着睁睛睡睬瞄瞌瞟瞧瞪瞬瞻矗矣知矩短矮石砂砌砍研砖砰破砸硬确碍碎碗碧碰磕磨礼祖祗祝神祥祸禀禁禅福离秀私秃秋种秘积称移稀程稚稳稽穆究穷穹空穿突窃窍窗窜窝立竖站竞竟章童竭端竹笑笠笨第笼等筋筏筐筑答简箍算管箭篁篇篮篷簿籍米类粉粒粗精糊糟系索紧紫累红纤约级纪纯纱纳纵纷纸纹线练组细织终经结绕给绚绝继绪续维绸绽绿缁缓缕编缘缚缠缩缸缺罐网罕罗罚罢罩罪置美羞羡群羽翅翎翔翘翠翻翼耀老考者而耍耐耙耳耶耸聊联聚聪肃肆肉肋肌肚肠股肢肥肩肯肿胆背胎胖胜胡胧胸能脆脉脏脑脖脚脱脸腐腑腔腕腥腰腹腻腾腿膀膝臂臣自臭至舌舍舒舔舞般船艘良艰色艳艺节芒芝芦花苍苏苔苗若苦英茫茶草荒荡荣荫药莫莲莹菩萎萤萦萧萨落葫葬葱葵蒙蒸蓝蓬蔓蔽薄薪薯藏藓藤虎虑虚虫虹虽蚁蚂蛋蜂蜓蜗蜻蝇蝉蝗蝴蝶融蟠蠕蠢血行衍衔街衣补表衫衰衲袋袍袖被袭袱裂装裙裳裸裹襟西要覆见观规视览觉角解触言誉誓计订认讨让议记讲讶许论设访诀证诅识诈诉词试诗诚话该诬语误诱说诵诶请诸读谁调谈谊谋谎谒谛谢谨谪谷象豹貌贝负责败账质贪贱贴贵费贺资赌赎赏赐赔赖赚赛赞赢赤赦赫走赶起超越趟趣足趴跃跄跋跌跑跟跪路跳踉踏踢踩踪踱蹈蹑蹦蹲身躯躲躺车转轮软轰轻载辈辉输辗辛辞辟辰辱边达迅过迈迎运近返还这进远连迟迫迳迷迸迹追退送适逃逆选逊逍透逐递途逗通逝逞速造逢逼遁遇遍遐道遣遥遮避邀那郁郎部都配酒酥酷酸酿醇醉醒采释里重野量金钉钟钢钧钱钵钻铁铛铜铭银铸铺链销锁锅锋错锦键镇镜镶长门闪闭问闯闲间闷闸闹闻阎防阳阴阵阶阻阿陀附际陆陌降限院除险陪陶陷隆随隐隔难雀雁雄集雕雨雪雳零雷雾需霄震霉霜霞露霹青静非靠面靴鞋音顶顺须顽顾顿颂预颅领颇颈颊颗题颜额颠颤风飓飘飞食饥饭饮饰饵饶饿首香马驮驯驳驶骂骄骑骗骨骸高鬼魂魄魔鱼鲜鲤鲨鳅鸟鸡鸣鸭鸿鹏鹤鹰鹿麻黄黎黑默黛黝黯鼓鼠鼻齐齿龙！＃％，：；？～\n"
     ]
    }
   ],
   "source": [
    "data_dir = './train_data/wkz8.txt'\n",
    "\n",
    "with open(data_dir, 'r', encoding='utf-8') as f:\n",
    "    text = f.read()\n",
    "\n",
    "# Count unique characters\n",
    "unique_chars = set(text)\n",
    "num_unique_chars = len(unique_chars)\n",
    "\n",
    "config.vocab = num_unique_chars\n",
    "\n",
    "print(f'Length of text: {len(text)}')\n",
    "print(f\"Number of unique characters in the file: {num_unique_chars}\")\n",
    "print(\"Unique characters:\", ''.join(sorted(unique_chars)))"
   ]
  },
  {
   "cell_type": "code",
   "execution_count": 5,
   "id": "97486ab3",
   "metadata": {},
   "outputs": [],
   "source": [
    "character_to_index = {char: i for i, char in enumerate(unique_chars)}\n",
    "index_to_character = {i: char for i, char in enumerate(unique_chars)}\n",
    "\n",
    "def encode(x):\n",
    "    return [character_to_index[i] for i in x]\n",
    "\n",
    "def decode(x):\n",
    "    return [index_to_character[i] for i in x]\n",
    "\n",
    "def decode_tensor(x):\n",
    "    return ''.join([index_to_character[i.item()] for i in x])"
   ]
  },
  {
   "cell_type": "code",
   "execution_count": 6,
   "id": "107d1ada",
   "metadata": {},
   "outputs": [
    {
     "name": "stdout",
     "output_type": "stream",
     "text": [
      "Train data length: 78787\n",
      "Validation data length: 8755\n"
     ]
    }
   ],
   "source": [
    "encoded_text = torch.tensor(encode(text), dtype=torch.int, device=device)\n",
    "\n",
    "# Create train-validation split (90-10)\n",
    "n = int(0.9 * len(encoded_text))\n",
    "train_data = encoded_text[:n]\n",
    "val_data = encoded_text[n:]\n",
    "\n",
    "print(f\"Train data length: {len(train_data)}\")\n",
    "print(f\"Validation data length: {len(val_data)}\")"
   ]
  },
  {
   "cell_type": "code",
   "execution_count": 7,
   "id": "c5f6b0f5",
   "metadata": {},
   "outputs": [],
   "source": [
    "def get_batch(data, batch_size, context_length):\n",
    "    batch = []\n",
    "    for b in range(batch_size):\n",
    "        i = torch.randint(0, len(data) - context_length - 1, (1,))\n",
    "        batch.append(data[i:i+context_length+1])\n",
    "    return torch.stack(batch)\n",
    "\n",
    "def get_data(batches):\n",
    "    num_batch, ctx_len = batches.shape\n",
    "    context = []\n",
    "    label = []\n",
    "    for t in range(ctx_len-1):\n",
    "        context.append(torch.stack([batches[i][:t+1] for i in range(num_batch)]).to(device))\n",
    "        label.append(torch.stack([batches[i][t+1] for i in range(num_batch)]).type(torch.LongTensor).to(device))\n",
    "    return context, label\n"
   ]
  },
  {
   "cell_type": "code",
   "execution_count": 8,
   "id": "39132ef9",
   "metadata": {},
   "outputs": [],
   "source": [
    "model = impulsegpt.ImpulseGPT(config=config).to(device)\n",
    "loss_fn = nn.CrossEntropyLoss().to(device)\n",
    "optimizer = torch.optim.Adam(model.parameters(), lr=1e-3)"
   ]
  },
  {
   "cell_type": "code",
   "execution_count": 9,
   "id": "3c5b1ecd",
   "metadata": {},
   "outputs": [],
   "source": [
    "def train(dataset, model, loss_fn, optimizer, steps:int, num_batch=4):\n",
    "    model.train()\n",
    "    print(f\"Start training with {steps} steps\")\n",
    "    for step in range(steps):\n",
    "        batch = get_batch(dataset, num_batch, config.ctx_len)\n",
    "        context, label = get_data(batch)\n",
    "        step_loss = 0\n",
    "        for i in range(len(label)):\n",
    "            pred = model(context[i])\n",
    "            loss = loss_fn(pred, label[i])\n",
    "\n",
    "            loss.backward()\n",
    "            optimizer.step()\n",
    "            optimizer.zero_grad()\n",
    "            step_loss += loss.item()\n",
    "        step_loss = step_loss / len(label)\n",
    "        #print(f\"Step {step} Complete with loss:{step_loss}\")\n",
    "        if step % 10 == 0:\n",
    "            print(f\"Step {step}: Loss = {step_loss}\")\n",
    "        \n",
    "    \n"
   ]
  },
  {
   "cell_type": "code",
   "execution_count": 11,
   "id": "990e7be1",
   "metadata": {},
   "outputs": [
    {
     "name": "stdout",
     "output_type": "stream",
     "text": [
      "Start training with 101 steps\n",
      "Step 0: Loss = 5.827203020453453\n",
      "Step 10: Loss = 5.767085198312998\n",
      "Step 20: Loss = 6.020226635038853\n",
      "Step 30: Loss = 5.755541533231735\n",
      "Step 40: Loss = 6.043134070932865\n",
      "Step 50: Loss = 5.698156736791134\n",
      "Step 60: Loss = 5.335667874664068\n",
      "Step 70: Loss = 5.3639691062271595\n",
      "Step 80: Loss = 5.080534815788269\n",
      "Step 90: Loss = 5.090525045990944\n",
      "Step 100: Loss = 5.5048802718520164\n"
     ]
    }
   ],
   "source": [
    "train(train_data, model, loss_fn, optimizer, 101, num_batch=4)"
   ]
  },
  {
   "cell_type": "code",
   "execution_count": null,
   "id": "9bc9586d",
   "metadata": {},
   "outputs": [],
   "source": []
  },
  {
   "cell_type": "markdown",
   "id": "fb32536d",
   "metadata": {},
   "source": []
  }
 ],
 "metadata": {
  "kernelspec": {
   "display_name": "mlbase",
   "language": "python",
   "name": "python3"
  },
  "language_info": {
   "codemirror_mode": {
    "name": "ipython",
    "version": 3
   },
   "file_extension": ".py",
   "mimetype": "text/x-python",
   "name": "python",
   "nbconvert_exporter": "python",
   "pygments_lexer": "ipython3",
   "version": "3.10.15"
  }
 },
 "nbformat": 4,
 "nbformat_minor": 5
}
