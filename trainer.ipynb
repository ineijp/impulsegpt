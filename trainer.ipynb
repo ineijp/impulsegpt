{
 "cells": [
  {
   "cell_type": "code",
   "execution_count": null,
   "id": "3149bde4",
   "metadata": {},
   "outputs": [],
   "source": [
    "import impulsegpt\n",
    "import torch\n",
    "from torch import nn\n",
    "from torch.utils.data import DataLoader\n",
    "from torchinfo import summary\n",
    "from tqdm import tqdm\n",
    "from matplotlib import pyplot as plt\n",
    "from torch.utils.tensorboard import SummaryWriter\n",
    "from datasets import load_dataset\n",
    "from transformers import AutoTokenizer, DataCollatorWithPadding\n",
    "#import char_tokenizer"
   ]
  },
  {
   "cell_type": "code",
   "execution_count": null,
   "id": "48e9e1f0",
   "metadata": {},
   "outputs": [],
   "source": [
    "device = torch.device('cpu')\n",
    "if torch.cuda.is_available():\n",
    "    device = torch.device('cuda')\n",
    "    print(\"Using CUDA\")\n",
    "elif torch.backends.mps.is_available():\n",
    "    device = torch.device('mps')\n",
    "    print(\"Using MPS\")\n",
    "else:\n",
    "    print(\"Using CPU\")"
   ]
  },
  {
   "cell_type": "code",
   "execution_count": null,
   "id": "1d805b62",
   "metadata": {},
   "outputs": [],
   "source": [
    "config = impulsegpt.Config()\n",
    "config.ctx_len = 256\n",
    "config.n_layers = 12\n",
    "config.d_model = 768\n",
    "config.n_heads = 12\n",
    "config.vocab = 50000"
   ]
  },
  {
   "cell_type": "code",
   "execution_count": null,
   "id": "97486ab3",
   "metadata": {},
   "outputs": [],
   "source": [
    "tokenizer = AutoTokenizer.from_pretrained('google-bert/bert-base-chinese')\n",
    "#tokenizer = AutoTokenizer.from_pretrained(\"EleutherAI/gpt-neo-125m\")\n",
    "collator = DataCollatorWithPadding(tokenizer, 'max_length', config.ctx_len, return_tensors='pt')\n",
    "\n",
    "config.vocab = len(tokenizer.vocab)\n",
    "print(f\"Model vocab set to: {config.vocab}, Embedding size: {config.d_model * config.vocab}\")\n"
   ]
  },
  {
   "cell_type": "code",
   "execution_count": null,
   "id": "32d4055a",
   "metadata": {},
   "outputs": [],
   "source": [
    "ds = load_dataset(\"roneneldan/TinyStories\")\n",
    "ds = ds['train']"
   ]
  },
  {
   "cell_type": "code",
   "execution_count": null,
   "id": "32380061",
   "metadata": {},
   "outputs": [],
   "source": [
    "model = impulsegpt.ImpulseGPT(config=config).to(device)\n",
    "#model = torch.load('ckpt/ts-64-1.pt')\n",
    "summary(model)"
   ]
  },
  {
   "cell_type": "code",
   "execution_count": null,
   "id": "b74eff3a",
   "metadata": {},
   "outputs": [],
   "source": [
    "def train(dataset, model, loss_fn, optimizer, epochs:int, batch_size:int, training_divides:int, logger:SummaryWriter):\n",
    "    model.train()\n",
    "    print(f\"Start training for {epochs} epochs with {len(dataset)} rows of data each.\")\n",
    "    for s in range(epochs):\n",
    "        for chunk in range(training_divides):\n",
    "            print(f\"Training on {chunk+1} of {training_divides} data chunks\")\n",
    "            dataloader = DataLoader(dataset=dataset.shard(num_shards=training_divides, index=chunk),collate_fn=collator, batch_size=batch_size)\n",
    "            pbar = tqdm(enumerate(dataloader), total=len(dataloader), desc=f\"Epoch {s+1} of {epochs}\")\n",
    "            for batch, row in pbar:\n",
    "                step_loss = 0\n",
    "                num_rows = row['input_ids'].shape[1] - 1\n",
    "                for t in range(num_rows):\n",
    "                    context = row['input_ids'][...,:t+1].to(device)\n",
    "                    y = row['input_ids'][...,t+1].to(device)\n",
    "                    y_hat = model(context)\n",
    "                    loss = loss_fn(y_hat, y)\n",
    "                    loss.backward()\n",
    "                    optimizer.step()\n",
    "                    optimizer.zero_grad()\n",
    "                    step_loss += loss.item()\n",
    "                step_loss /= num_rows\n",
    "                logger.add_scalar('Loss', step_loss, batch+1)\n",
    "                pbar.set_postfix({'Loss':step_loss})\n",
    "        torch.save(model, f\"ckpt/ts-{config.ctx_len}-{chunk}.pt\")\n",
    "\n",
    "    logger.close()\n"
   ]
  },
  {
   "cell_type": "code",
   "execution_count": null,
   "id": "990e7be1",
   "metadata": {},
   "outputs": [],
   "source": [
    "loss_fn = nn.CrossEntropyLoss().to(device)\n",
    "optimizer = torch.optim.AdamW(model.parameters(), lr=0.00005)\n",
    "writer = SummaryWriter()\n",
    "train(ds, model, loss_fn, optimizer, epochs=1, batch_size=24, training_divides=1000, logger=writer)"
   ]
  },
  {
   "cell_type": "code",
   "execution_count": null,
   "id": "5ff021e7",
   "metadata": {},
   "outputs": [],
   "source": [
    "torch.save(model, \"ckpt/impgpt-final-1.pt\")"
   ]
  },
  {
   "cell_type": "code",
   "execution_count": null,
   "id": "6e6f3071",
   "metadata": {},
   "outputs": [],
   "source": [
    "#start_x = torch.tensor(tokenizer.encode('Once upon a time')).unsqueeze(dim=0).to(device=device)\n",
    "#print(start_x)\n",
    "start_ids = torch.tensor([[ 101,  100, 8644, 8224,  143, 8759]]).to(device)\n",
    "max_length = 256\n",
    "y = model.generate(start_ids, max_length=max_length, top_k=64, temp=0.75)\n",
    "print(y)\n",
    "txt = tokenizer.decode(y[0].tolist(), skip_special_tokens=True)\n",
    "print(y.shape)\n",
    "print(txt)"
   ]
  },
  {
   "cell_type": "code",
   "execution_count": null,
   "id": "cc5a47b4",
   "metadata": {},
   "outputs": [],
   "source": [
    "y = model(start_ids)\n",
    "prob = nn.functional.softmax(y, dim=-1).cpu().detach().squeeze()\n",
    "token_max = torch.argmax(prob)\n",
    "print(token_max)\n",
    "plt.plot(prob)\n",
    "tokenizer.decode([token_max.tolist()])"
   ]
  }
 ],
 "metadata": {
  "kernelspec": {
   "display_name": "mlbase",
   "language": "python",
   "name": "python3"
  },
  "language_info": {
   "codemirror_mode": {
    "name": "ipython",
    "version": 3
   },
   "file_extension": ".py",
   "mimetype": "text/x-python",
   "name": "python",
   "nbconvert_exporter": "python",
   "pygments_lexer": "ipython3",
   "version": "3.10.15"
  }
 },
 "nbformat": 4,
 "nbformat_minor": 5
}
