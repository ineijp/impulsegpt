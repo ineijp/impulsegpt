{
 "cells": [
  {
   "cell_type": "code",
   "execution_count": null,
   "id": "3149bde4",
   "metadata": {},
   "outputs": [],
   "source": [
    "import impulsegpt_sdpa\n",
    "import os\n",
    "import torch\n",
    "from torch import nn\n",
    "from torch.utils.data import DataLoader\n",
    "from torchinfo import summary\n",
    "from tqdm import tqdm\n",
    "from torch.utils.tensorboard import SummaryWriter\n",
    "from datasets import load_dataset\n",
    "from transformers import AutoTokenizer, DataCollatorWithPadding\n",
    "#import char_tokenizer\n",
    "print(torch.__version__)"
   ]
  },
  {
   "cell_type": "code",
   "execution_count": null,
   "id": "48e9e1f0",
   "metadata": {},
   "outputs": [],
   "source": [
    "device = torch.device('cpu')\n",
    "if torch.cuda.is_available():\n",
    "    device = torch.device('cuda')\n",
    "    print(\"Using CUDA\")\n",
    "elif torch.backends.mps.is_available():\n",
    "    device = torch.device('mps')\n",
    "    print(\"Using MPS\")\n",
    "else:\n",
    "    print(\"Using CPU\")\n",
    "\n",
    "torch.cuda.get_device_capability()"
   ]
  },
  {
   "cell_type": "code",
   "execution_count": null,
   "id": "1d805b62",
   "metadata": {},
   "outputs": [],
   "source": [
    "config = impulsegpt_sdpa.Config()\n",
    "config.ctx_len = 64\n",
    "config.n_layers = 12\n",
    "config.d_model = 768\n",
    "config.n_heads = 12\n",
    "config.n_kv_heads = 4\n",
    "config.vocab = 50000\n",
    "config.gpa = True\n",
    "\n",
    "enable_mixed_pricision = True"
   ]
  },
  {
   "cell_type": "code",
   "execution_count": null,
   "id": "97486ab3",
   "metadata": {},
   "outputs": [],
   "source": [
    "#tokenizer = AutoTokenizer.from_pretrained('google-bert/bert-base-chinese')\n",
    "tokenizer = AutoTokenizer.from_pretrained(\"EleutherAI/gpt-neo-125m\")\n",
    "tokenizer.pad_token = '<|endoftext|>'\n",
    "collator = DataCollatorWithPadding(tokenizer, 'max_length', config.ctx_len, return_tensors='pt')\n",
    "\n",
    "config.vocab = len(tokenizer.vocab)\n",
    "print(f\"Model vocab set to: {config.vocab}, Embedding size: {config.d_model * config.vocab}\")\n"
   ]
  },
  {
   "cell_type": "code",
   "execution_count": null,
   "id": "32d4055a",
   "metadata": {},
   "outputs": [],
   "source": [
    "ds = load_dataset(\"roneneldan/TinyStories\")\n",
    "ds = ds['train']\n",
    "ds = ds.shard(num_shards=50, index=42)"
   ]
  },
  {
   "cell_type": "code",
   "execution_count": null,
   "id": "235a17c1",
   "metadata": {},
   "outputs": [],
   "source": [
    "print(f\"Length before filter: {len(ds)}\")\n",
    "#ds = ds.filter(lambda t: len(t['text']) < (config.ctx_len*2))\n",
    "ds = ds.map(lambda t: tokenizer(t['text'], \n",
    "                                truncation=True, \n",
    "                                max_length=config.ctx_len,\n",
    "                                return_overflowing_tokens=False,\n",
    "                                return_length=True), batched=True)\n",
    "ds = ds.remove_columns(['text','attention_mask', 'length'])\n",
    "ds = ds.with_format('torch')\n",
    "\n",
    "print(ds[0])\n",
    "print(f\"Train data length: {len(ds)}\")\n",
    "#print(f\"Validation data length: {len(ds['validation'])}\")"
   ]
  },
  {
   "cell_type": "code",
   "execution_count": null,
   "id": "32380061",
   "metadata": {},
   "outputs": [],
   "source": [
    "model = impulsegpt_sdpa.ImpulseGPT(config=config).to(device)\n",
    "#model = torch.load('ckpt/impgpt-128-7.pt', weights_only=False)\n",
    "\n",
    "model.compile()\n",
    "summary(model)"
   ]
  },
  {
   "cell_type": "code",
   "execution_count": null,
   "id": "b74eff3a",
   "metadata": {},
   "outputs": [],
   "source": [
    "def train(dataset, model, loss_fn, optimizer, epochs:int=1, batch_size:int=16, training_divides:int=10, scaler:torch.amp.GradScaler=None, logger:SummaryWriter=None):\n",
    "    model.train()\n",
    "    print(f\"Start training for {epochs} epochs with {len(dataset)} rows of data each.\")\n",
    "    for s in range(epochs):\n",
    "        for chunk in range(training_divides):\n",
    "            print(f\"Training on {chunk+1} of {training_divides} data chunks\")\n",
    "            dataloader = DataLoader(dataset=dataset.shard(num_shards=training_divides, index=chunk),\n",
    "                                    collate_fn=collator, \n",
    "                                    batch_size=batch_size, \n",
    "                                    num_workers=16)\n",
    "            pbar = tqdm(enumerate(dataloader), total=len(dataloader), desc=f\"Epoch {s+1} of {epochs}\")\n",
    "            for batch, row in pbar:\n",
    "                step_loss = 0\n",
    "                num_rows = row['input_ids'].shape[1] - 1\n",
    "                for t in range(num_rows):\n",
    "                    context = row['input_ids'][...,:t+1].to(device)\n",
    "                    y = row['input_ids'][...,t+1].to(device)\n",
    "\n",
    "                    with torch.autocast(device_type='cuda', \n",
    "                                        dtype=torch.bfloat16, \n",
    "                                        enabled=enable_mixed_pricision):\n",
    "                        y_hat = model(context)\n",
    "                        loss = loss_fn(y_hat, y)\n",
    "                        scaler.scale(loss).backward()\n",
    "                        scaler.step(optimizer)\n",
    "                        scaler.update()\n",
    "                        optimizer.zero_grad()\n",
    "                        step_loss += loss.item()\n",
    "                step_loss /= num_rows\n",
    "                if logger:\n",
    "                    logger.add_scalar('Loss', step_loss, batch+1)\n",
    "                pbar.set_postfix({'Loss':step_loss})\n",
    "            os.makedirs('ckpt', exist_ok=True)\n",
    "            torch.save(model, f\"ckpt/impgpt-{config.ctx_len}-{chunk}.pt\")\n",
    "    if logger:\n",
    "        logger.close()\n"
   ]
  },
  {
   "cell_type": "code",
   "execution_count": null,
   "id": "990e7be1",
   "metadata": {},
   "outputs": [],
   "source": [
    "loss_fn = nn.CrossEntropyLoss().to(device)\n",
    "optimizer = torch.optim.AdamW(model.parameters(), \n",
    "                              lr=5e-5, \n",
    "                              betas=(0.9, 0.95),\n",
    "                              weight_decay=0.1)\n",
    "# For mixed precision\n",
    "scalar = torch.amp.GradScaler('cuda')\n",
    "\n",
    "logWriter = SummaryWriter()\n",
    "\n",
    "\n",
    "with nn.attention.sdpa_kernel(nn.attention.SDPBackend.FLASH_ATTENTION):\n",
    "    train(ds, model, loss_fn, optimizer, \n",
    "          epochs=1, \n",
    "          batch_size=256, \n",
    "          scaler=scalar, \n",
    "          training_divides=1,\n",
    "          logger=logWriter)"
   ]
  },
  {
   "cell_type": "code",
   "execution_count": null,
   "id": "5ff021e7",
   "metadata": {},
   "outputs": [],
   "source": [
    "os.makedirs('ckpt', exist_ok=True)\n",
    "torch.save(model, f\"ckpt/impgpt-{config.ctx_len}-final-1.pt\")"
   ]
  }
 ],
 "metadata": {
  "kernelspec": {
   "display_name": "impulsegpt",
   "language": "python",
   "name": "python3"
  },
  "language_info": {
   "codemirror_mode": {
    "name": "ipython",
    "version": 3
   },
   "file_extension": ".py",
   "mimetype": "text/x-python",
   "name": "python",
   "nbconvert_exporter": "python",
   "pygments_lexer": "ipython3",
   "version": "3.12.11"
  }
 },
 "nbformat": 4,
 "nbformat_minor": 5
}
