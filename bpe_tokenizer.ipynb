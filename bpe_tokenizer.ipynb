{
 "cells": [
  {
   "cell_type": "code",
   "execution_count": null,
   "id": "a54a8073",
   "metadata": {},
   "outputs": [],
   "source": [
    "import tokenizers\n",
    "from tokenizers import Tokenizer\n",
    "from tokenizers.models import BPE\n",
    "from tokenizers.trainers import BpeTrainer\n",
    "from tokenizers.pre_tokenizers import Whitespace"
   ]
  },
  {
   "cell_type": "code",
   "execution_count": null,
   "id": "07bb3704",
   "metadata": {},
   "outputs": [],
   "source": [
    "tokenizer = Tokenizer(BPE(unk_token=\"[UNK]\"))\n",
    "trainer = BpeTrainer(special_tokens=[\"[UNK]\", \"[CLS]\", \"[SEP]\", \"[PAD]\", \"[MASK]\"], vocab_size = 3500)\n",
    "tokenizer.pre_tokenizer = Whitespace()\n",
    "tokenizer.decoder = tokenizers.decoders.BPEDecoder()"
   ]
  },
  {
   "cell_type": "code",
   "execution_count": null,
   "id": "521cc3e7",
   "metadata": {},
   "outputs": [],
   "source": [
    "tokenizer.train([\"./train_data/TinyStoriesV2-GPT4-train.txt\"], trainer)"
   ]
  },
  {
   "cell_type": "code",
   "execution_count": null,
   "id": "a017960d",
   "metadata": {},
   "outputs": [],
   "source": [
    "print(tokenizer.encode('I am'))\n",
    "i = 3400\n",
    "for t in range(28):\n",
    "    print(tokenizer.decode([i+t]))"
   ]
  },
  {
   "cell_type": "code",
   "execution_count": null,
   "id": "914957d6",
   "metadata": {},
   "outputs": [],
   "source": [
    "ids = tokenizer.encode('someone')\n",
    "ids.ids"
   ]
  },
  {
   "cell_type": "code",
   "execution_count": null,
   "id": "5f2c7846",
   "metadata": {},
   "outputs": [],
   "source": [
    "tokenizer.save('train_data/tiny.json')"
   ]
  }
 ],
 "metadata": {
  "language_info": {
   "name": "python"
  }
 },
 "nbformat": 4,
 "nbformat_minor": 5
}
